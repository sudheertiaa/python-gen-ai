{
  "nbformat": 4,
  "nbformat_minor": 0,
  "metadata": {
    "colab": {
      "provenance": [],
      "toc_visible": true,
      "authorship_tag": "ABX9TyMRtBYbbUSueuGRx+OVVqat",
      "include_colab_link": true
    },
    "kernelspec": {
      "name": "python3",
      "display_name": "Python 3"
    },
    "language_info": {
      "name": "python"
    }
  },
  "cells": [
    {
      "cell_type": "markdown",
      "metadata": {
        "id": "view-in-github",
        "colab_type": "text"
      },
      "source": [
        "<a href=\"https://colab.research.google.com/github/sudheertiaa/python-gen-ai/blob/main/my_training.ipynb\" target=\"_parent\"><img src=\"https://colab.research.google.com/assets/colab-badge.svg\" alt=\"Open In Colab\"/></a>"
      ]
    },
    {
      "cell_type": "code",
      "execution_count": null,
      "metadata": {
        "id": "KkRNy_AJovXe"
      },
      "outputs": [],
      "source": []
    },
    {
      "cell_type": "code",
      "source": [
        "a = 100\n",
        "if"
      ],
      "metadata": {
        "id": "GSXWPIhDwuv0"
      },
      "execution_count": null,
      "outputs": []
    },
    {
      "cell_type": "markdown",
      "source": [],
      "metadata": {
        "id": "jf7CIqjtwvPY"
      }
    },
    {
      "cell_type": "code",
      "source": [
        "a = 10\n",
        "b=a+100000000\n",
        "\n",
        "'''\n",
        "test this one\n",
        "\n",
        "'''\n",
        "print (b)\n"
      ],
      "metadata": {
        "colab": {
          "base_uri": "https://localhost:8080/"
        },
        "id": "M8Q63it_wvkw",
        "outputId": "d53ecc6a-f661-4d1b-fda3-22f17cd0f22f"
      },
      "execution_count": null,
      "outputs": [
        {
          "output_type": "stream",
          "name": "stdout",
          "text": [
            "100000010\n"
          ]
        }
      ]
    },
    {
      "cell_type": "code",
      "source": [
        "print('My name is : Sudheer Manchikanti')"
      ],
      "metadata": {
        "colab": {
          "base_uri": "https://localhost:8080/"
        },
        "id": "-NJ1O_v8lmsO",
        "outputId": "349225b9-3072-4a07-a2aa-bf7c93cf0b13"
      },
      "execution_count": 1,
      "outputs": [
        {
          "output_type": "stream",
          "name": "stdout",
          "text": [
            "My name is : Sudheer Manchikanti\n"
          ]
        }
      ]
    },
    {
      "cell_type": "code",
      "source": [
        "print(\"I love reading books\")"
      ],
      "metadata": {
        "colab": {
          "base_uri": "https://localhost:8080/"
        },
        "id": "sFqjLw3FlvNc",
        "outputId": "34860144-9785-4e4f-d828-df68fe4a7f37"
      },
      "execution_count": 2,
      "outputs": [
        {
          "output_type": "stream",
          "name": "stdout",
          "text": [
            "I love reading books\n"
          ]
        }
      ]
    },
    {
      "cell_type": "code",
      "source": [
        "a = input(\"Enter your Name \" )\n",
        "print(\"Your entered name is :\",a)\n"
      ],
      "metadata": {
        "colab": {
          "base_uri": "https://localhost:8080/"
        },
        "id": "PaKY5PyRmG5x",
        "outputId": "c556588c-99b4-4143-d8f1-8ea57afef598"
      },
      "execution_count": 7,
      "outputs": [
        {
          "output_type": "stream",
          "name": "stdout",
          "text": [
            "Enter your Name asdfasdf\n",
            "Your entered name is : asdfasdf\n"
          ]
        }
      ]
    },
    {
      "cell_type": "code",
      "source": [
        "# Function to calculate the factorial of a number\n",
        "def factorial(n):\n",
        "    result = 1\n",
        "    for i in range(1, n + 1):\n",
        "        result *= i\n",
        "    return result\n",
        "\n",
        "# Main program\n",
        "print(\"Welcome to the Factorial Calculator!\")\n",
        "\n",
        "# Input\n",
        "while True:\n",
        "    num_str = input(\"Enter a positive integer (or 'q' to quit): \")\n",
        "\n",
        "    if num_str.lower() == 'q':\n",
        "        print(\"Thank you for using the Factorial Calculator. Goodbye!\")\n",
        "        break\n",
        "\n",
        "    try:\n",
        "        num = int(num_str)\n",
        "        if num < 0:\n",
        "            print(\"Please enter a positive integer.\")\n",
        "            continue\n",
        "\n",
        "        # Calculate and output the factorial\n",
        "        result = factorial(num)\n",
        "        print(f\"The factorial of {num} is: {result}\")\n",
        "\n",
        "        # Additional output using a while loop\n",
        "        print(\"Factors:\")\n",
        "        factor = 1\n",
        "        while factor <= num:\n",
        "            if num % factor == 0:\n",
        "                print(factor, end=\" \")\n",
        "            factor += 1\n",
        "        print(\"\\n\")\n",
        "\n",
        "    except ValueError:\n",
        "        print(\"Invalid input. Please enter a positive integer or 'q' to quit.\")"
      ],
      "metadata": {
        "colab": {
          "base_uri": "https://localhost:8080/"
        },
        "id": "o2cWSTyNo0Ho",
        "outputId": "0d69ec50-dc15-467c-e125-e894023dd1ac"
      },
      "execution_count": null,
      "outputs": [
        {
          "output_type": "stream",
          "name": "stdout",
          "text": [
            "Welcome to the Factorial Calculator!\n",
            "Enter a positive integer (or 'q' to quit): 4\n",
            "The factorial of 4 is: 24\n",
            "Factors:\n",
            "1 2 4 \n",
            "\n",
            "Enter a positive integer (or 'q' to quit): 10\n",
            "The factorial of 10 is: 3628800\n",
            "Factors:\n",
            "1 2 5 10 \n",
            "\n",
            "Enter a positive integer (or 'q' to quit): q\n",
            "Thank you for using the Factorial Calculator. Goodbye!\n"
          ]
        }
      ]
    },
    {
      "cell_type": "code",
      "source": [
        "# Initialize a list and a set\n",
        "fruits_list = [\"apple\", \"banana\", \"cherry\", \"apple\", \"date\"]\n",
        "fruits_set = {\"apple\", \"banana\", \"cherry\", \"date\"}\n",
        "\n",
        "print(\"Original list:\", fruits_list)\n",
        "print(\"Original set:\", fruits_set)\n",
        "\n",
        "# List functions\n",
        "print(\"\\nList functions:\")\n",
        "fruits_list.append(\"elderberry\")\n",
        "print(\"After append():\", fruits_list)\n",
        "\n",
        "fruits_list.remove(\"banana\")\n",
        "print(\"After remove():\", fruits_list)\n",
        "\n",
        "print(\"Count of 'apple':\", fruits_list.count(\"apple\"))\n",
        "\n",
        "fruits_list.sort()\n",
        "print(\"After sort():\", fruits_list)\n",
        "\n",
        "fruits_list.reverse()\n",
        "print(\"After reverse():\", fruits_list)\n",
        "\n",
        "# Set functions\n",
        "print(\"\\nSet functions:\")\n",
        "fruits_set.add(\"fig\")\n",
        "print(\"After add():\", fruits_set)\n",
        "\n",
        "fruits_set.remove(\"banana\")\n",
        "print(\"After remove():\", fruits_set)\n",
        "\n",
        "new_fruits = {\"grape\", \"honeydew\", \"apple\"}\n",
        "fruits_set.update(new_fruits)\n",
        "print(\"After update():\", fruits_set)\n",
        "\n",
        "print(\"Is 'apple' in set?\", \"apple\" in fruits_set)\n",
        "\n",
        "# Set operations\n",
        "veggies_set = {\"carrot\", \"date\", \"eggplant\"}\n",
        "print(\"\\nVeggies set:\", veggies_set)\n",
        "\n",
        "print(\"Union:\", fruits_set.union(veggies_set))\n",
        "print(\"Intersection:\", fruits_set.intersection(veggies_set))\n",
        "print(\"Difference (fruits - veggies):\", fruits_set.difference(veggies_set))"
      ],
      "metadata": {
        "colab": {
          "base_uri": "https://localhost:8080/"
        },
        "id": "5HZc5RVipkBV",
        "outputId": "546b61e1-f6b6-40d3-f611-afb960b0d5e7"
      },
      "execution_count": null,
      "outputs": [
        {
          "output_type": "stream",
          "name": "stdout",
          "text": [
            "Original list: ['apple', 'banana', 'cherry', 'apple', 'date']\n",
            "Original set: {'date', 'cherry', 'banana', 'apple'}\n",
            "\n",
            "List functions:\n",
            "After append(): ['apple', 'banana', 'cherry', 'apple', 'date', 'elderberry']\n",
            "After remove(): ['apple', 'cherry', 'apple', 'date', 'elderberry']\n",
            "Count of 'apple': 2\n",
            "After sort(): ['apple', 'apple', 'cherry', 'date', 'elderberry']\n",
            "After reverse(): ['elderberry', 'date', 'cherry', 'apple', 'apple']\n",
            "\n",
            "Set functions:\n",
            "After add(): {'cherry', 'apple', 'fig', 'banana', 'date'}\n",
            "After remove(): {'cherry', 'apple', 'fig', 'date'}\n",
            "After update(): {'cherry', 'grape', 'honeydew', 'apple', 'fig', 'date'}\n",
            "Is 'apple' in set? True\n",
            "\n",
            "Veggies set: {'eggplant', 'carrot', 'date'}\n",
            "Union: {'cherry', 'grape', 'carrot', 'honeydew', 'apple', 'fig', 'eggplant', 'date'}\n",
            "Intersection: {'date'}\n",
            "Difference (fruits - veggies): {'cherry', 'grape', 'honeydew', 'fig', 'apple'}\n"
          ]
        }
      ]
    },
    {
      "cell_type": "code",
      "source": [
        "from re import M\n",
        "my_list = [i for i in range(-10, -1)]\n",
        "print(my_list)"
      ],
      "metadata": {
        "colab": {
          "base_uri": "https://localhost:8080/"
        },
        "id": "J65lX3Pddhh9",
        "outputId": "a6caba68-d638-41ea-c672-d43d7c277d7f"
      },
      "execution_count": null,
      "outputs": [
        {
          "output_type": "stream",
          "name": "stdout",
          "text": [
            "[-10, -9, -8, -7, -6, -5, -4, -3, -2]\n"
          ]
        }
      ]
    },
    {
      "cell_type": "code",
      "source": [
        "a = lambda x, y : x*y\n",
        "print(a(7, 19))\n",
        "print(7*19)"
      ],
      "metadata": {
        "colab": {
          "base_uri": "https://localhost:8080/"
        },
        "id": "x7M6sZDeeVY1",
        "outputId": "9b438d89-db76-4a9f-d353-4fc6f65cda15"
      },
      "execution_count": null,
      "outputs": [
        {
          "output_type": "stream",
          "name": "stdout",
          "text": [
            "133\n",
            "133\n"
          ]
        }
      ]
    }
  ]
}